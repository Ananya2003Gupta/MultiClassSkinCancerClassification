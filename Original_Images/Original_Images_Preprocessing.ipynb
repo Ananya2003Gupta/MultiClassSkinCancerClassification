{
 "cells": [
  {
   "cell_type": "code",
   "execution_count": 6,
   "metadata": {
    "_cell_guid": "b1076dfc-b9ad-4769-8c92-a6c4dae69d19",
    "_uuid": "8f2839f25d086af736a60e9eeb907d3b93b6e0e5",
    "execution": {
     "iopub.execute_input": "2025-01-05T12:58:52.779790Z",
     "iopub.status.busy": "2025-01-05T12:58:52.779500Z",
     "iopub.status.idle": "2025-01-05T12:58:56.670890Z",
     "shell.execute_reply": "2025-01-05T12:58:56.670034Z",
     "shell.execute_reply.started": "2025-01-05T12:58:52.779769Z"
    },
    "trusted": true
   },
   "outputs": [],
   "source": [
    "import os\n",
    "import cv2\n",
    "import numpy as np\n",
    "import torch\n",
    "import torchvision\n",
    "from torchvision import transforms\n",
    "from torch.utils.data import Dataset, DataLoader\n",
    "from PIL import Image\n",
    "import matplotlib.pyplot as plt\n",
    "from tqdm import tqdm\n",
    "from pathlib import Path\n",
    "\n",
    "# Constants\n",
    "IMAGE_SIZE = (224, 224)\n",
    "SUPPORTED_FORMATS = ['.jpg', '.jpeg', '.png']"
   ]
  },
  {
   "cell_type": "code",
   "execution_count": 2,
   "metadata": {
    "execution": {
     "iopub.execute_input": "2025-01-05T12:58:28.802427Z",
     "iopub.status.busy": "2025-01-05T12:58:28.802135Z",
     "iopub.status.idle": "2025-01-05T12:58:28.807941Z",
     "shell.execute_reply": "2025-01-05T12:58:28.807108Z",
     "shell.execute_reply.started": "2025-01-05T12:58:28.802405Z"
    },
    "trusted": true
   },
   "outputs": [],
   "source": [
    "class ImagePreprocessor:\n",
    "    \"\"\"Skin Cancer Image preprocessing pipeline\"\"\"\n",
    "    \n",
    "    @staticmethod\n",
    "    def hair_remove(image):\n",
    "        \"\"\"Remove hair from skin images\"\"\"\n",
    "        try:\n",
    "            grayScale = cv2.cvtColor(image, cv2.COLOR_RGB2GRAY)\n",
    "            kernel = cv2.getStructuringElement(cv2.MORPH_RECT, (17, 17))\n",
    "            blackhat = cv2.morphologyEx(grayScale, cv2.MORPH_BLACKHAT, kernel)\n",
    "            _, threshold = cv2.threshold(blackhat, 10, 255, cv2.THRESH_BINARY)\n",
    "            final_image = cv2.inpaint(image, threshold, 1, cv2.INPAINT_TELEA)\n",
    "            return final_image\n",
    "        except Exception as e:\n",
    "            print(f\"Error in hair removal: {str(e)}\")\n",
    "            return image\n",
    "\n",
    "    @staticmethod\n",
    "    def sharpen_image(image):\n",
    "        \"\"\"Sharpen image using unsharp masking\"\"\"\n",
    "        gaussian = cv2.GaussianBlur(image, (0, 0), 2.0)\n",
    "        return cv2.addWeighted(image, 1.5, gaussian, -0.5, 0)"
   ]
  },
  {
   "cell_type": "code",
   "execution_count": 4,
   "metadata": {
    "execution": {
     "iopub.execute_input": "2025-01-05T12:58:37.706244Z",
     "iopub.status.busy": "2025-01-05T12:58:37.705910Z",
     "iopub.status.idle": "2025-01-05T12:58:37.710290Z",
     "shell.execute_reply": "2025-01-05T12:58:37.709510Z",
     "shell.execute_reply.started": "2025-01-05T12:58:37.706222Z"
    },
    "trusted": true
   },
   "outputs": [],
   "source": [
    "def preprocess_image(image, target_size=(224, 224)):\n",
    "    \"\"\"Apply all preprocessing steps to an image\"\"\"\n",
    "    preprocessor = ImagePreprocessor()\n",
    "    \n",
    "    image = preprocessor.hair_remove(image)\n",
    "    image = preprocessor.sharpen_image(image)\n",
    "    image = cv2.resize(image, target_size, interpolation=cv2.INTER_NEAREST)\n",
    "    \n",
    "    return image"
   ]
  },
  {
   "cell_type": "code",
   "execution_count": 7,
   "metadata": {
    "execution": {
     "iopub.execute_input": "2025-01-05T12:59:01.452788Z",
     "iopub.status.busy": "2025-01-05T12:59:01.452389Z",
     "iopub.status.idle": "2025-01-05T12:59:01.459083Z",
     "shell.execute_reply": "2025-01-05T12:59:01.458354Z",
     "shell.execute_reply.started": "2025-01-05T12:59:01.452763Z"
    },
    "trusted": true
   },
   "outputs": [],
   "source": [
    "base_directory = 'original_images'\n",
    "os.mkdir(base_directory)\n",
    "\n",
    "train_directory = os.path.join(base_directory, 'train_directory')\n",
    "os.mkdir(train_directory)\n",
    "\n",
    "validation_directory = os.path.join(base_directory, 'validation_directory')\n",
    "os.mkdir(validation_directory)\n",
    "\n",
    "test_directory = os.path.join(base_directory, 'test_directory')\n",
    "os.mkdir(test_directory)\n",
    "\n",
    "directory = [train_directory, validation_directory, test_directory]\n",
    "classes = ['nv', 'mel', 'bkl', 'bcc', 'akiec', 'vasc', 'df']\n",
    "\n",
    "for dirc in directory:\n",
    "    for cls in classes:\n",
    "        path = os.path.join(dirc, cls)\n",
    "        os.mkdir(path)"
   ]
  },
  {
   "cell_type": "code",
   "execution_count": 8,
   "metadata": {
    "execution": {
     "iopub.execute_input": "2025-01-05T12:59:31.592830Z",
     "iopub.status.busy": "2025-01-05T12:59:31.592536Z",
     "iopub.status.idle": "2025-01-05T12:59:31.598650Z",
     "shell.execute_reply": "2025-01-05T12:59:31.598005Z",
     "shell.execute_reply.started": "2025-01-05T12:59:31.592811Z"
    },
    "trusted": true
   },
   "outputs": [],
   "source": [
    "def process_and_organize_dataset(source_path, destination_path):\n",
    "    \"\"\"Process images and organize them into the new structure\"\"\"\n",
    "    source_path = Path(source_path)\n",
    "    destination_path = Path(destination_path)\n",
    "    \n",
    "    # Process each split (train, test, val)\n",
    "    splits = ['train_directory', 'test_directory', 'validation_directory']\n",
    "    for split in splits:\n",
    "        split_path = source_path / split\n",
    "        \n",
    "        dest_split = split\n",
    "        \n",
    "        for category in ['nv', 'mel', 'bkl', 'bcc', 'akiec', 'vasc', 'df']:\n",
    "            category_path = split_path / category\n",
    "            if not category_path.exists():\n",
    "                continue\n",
    "                \n",
    "            print(f\"Processing {split}/{category}...\")\n",
    "            \n",
    "            # Process each image in the category\n",
    "            for img_file in tqdm([f for ext in SUPPORTED_FORMATS for f in category_path.glob(f'*{ext}')]):\n",
    "                img = cv2.imread(str(img_file))\n",
    "                img = cv2.cvtColor(img, cv2.COLOR_BGR2RGB)\n",
    "                \n",
    "                # Apply preprocessing\n",
    "                processed_img = preprocess_image(img.copy(), target_size=(224, 224))\n",
    "                \n",
    "                # Generate filename without extension\n",
    "                filename = img_file.stem\n",
    "                \n",
    "                # Save original preprocessed image\n",
    "                original_path = destination_path / dest_split / category / f\"{filename}.jpg\"\n",
    "                cv2.imwrite(str(original_path), cv2.cvtColor(processed_img, cv2.COLOR_RGB2BGR))"
   ]
  },
  {
   "cell_type": "code",
   "execution_count": 9,
   "metadata": {
    "execution": {
     "iopub.execute_input": "2025-01-05T13:00:11.050622Z",
     "iopub.status.busy": "2025-01-05T13:00:11.050314Z",
     "iopub.status.idle": "2025-01-05T13:15:28.133706Z",
     "shell.execute_reply": "2025-01-05T13:15:28.132813Z",
     "shell.execute_reply.started": "2025-01-05T13:00:11.050596Z"
    },
    "trusted": true
   },
   "outputs": [
    {
     "name": "stdout",
     "output_type": "stream",
     "text": [
      "Processing train_directory/nv...\n"
     ]
    },
    {
     "name": "stderr",
     "output_type": "stream",
     "text": [
      "100%|██████████| 5115/5115 [03:48<00:00, 22.34it/s]\n"
     ]
    },
    {
     "name": "stdout",
     "output_type": "stream",
     "text": [
      "Processing train_directory/mel...\n"
     ]
    },
    {
     "name": "stderr",
     "output_type": "stream",
     "text": [
      "100%|██████████| 5950/5950 [02:08<00:00, 46.21it/s]\n"
     ]
    },
    {
     "name": "stdout",
     "output_type": "stream",
     "text": [
      "Processing train_directory/bkl...\n"
     ]
    },
    {
     "name": "stderr",
     "output_type": "stream",
     "text": [
      "100%|██████████| 5990/5990 [02:09<00:00, 46.42it/s]\n"
     ]
    },
    {
     "name": "stdout",
     "output_type": "stream",
     "text": [
      "Processing train_directory/bcc...\n"
     ]
    },
    {
     "name": "stderr",
     "output_type": "stream",
     "text": [
      "100%|██████████| 5462/5462 [01:39<00:00, 55.08it/s]\n"
     ]
    },
    {
     "name": "stdout",
     "output_type": "stream",
     "text": [
      "Processing train_directory/akiec...\n"
     ]
    },
    {
     "name": "stderr",
     "output_type": "stream",
     "text": [
      "100%|██████████| 5510/5510 [01:40<00:00, 54.77it/s]\n"
     ]
    },
    {
     "name": "stdout",
     "output_type": "stream",
     "text": [
      "Processing train_directory/vasc...\n"
     ]
    },
    {
     "name": "stderr",
     "output_type": "stream",
     "text": [
      "100%|██████████| 4810/4810 [01:01<00:00, 78.38it/s]\n"
     ]
    },
    {
     "name": "stdout",
     "output_type": "stream",
     "text": [
      "Processing train_directory/df...\n"
     ]
    },
    {
     "name": "stderr",
     "output_type": "stream",
     "text": [
      "100%|██████████| 4090/4090 [01:10<00:00, 58.35it/s]\n"
     ]
    },
    {
     "name": "stdout",
     "output_type": "stream",
     "text": [
      "Processing test_directory/nv...\n"
     ]
    },
    {
     "name": "stderr",
     "output_type": "stream",
     "text": [
      "100%|██████████| 883/883 [00:41<00:00, 21.24it/s]\n"
     ]
    },
    {
     "name": "stdout",
     "output_type": "stream",
     "text": [
      "Processing test_directory/mel...\n"
     ]
    },
    {
     "name": "stderr",
     "output_type": "stream",
     "text": [
      "100%|██████████| 46/46 [00:02<00:00, 15.64it/s]\n"
     ]
    },
    {
     "name": "stdout",
     "output_type": "stream",
     "text": [
      "Processing test_directory/bkl...\n"
     ]
    },
    {
     "name": "stderr",
     "output_type": "stream",
     "text": [
      "100%|██████████| 88/88 [00:05<00:00, 16.64it/s]\n"
     ]
    },
    {
     "name": "stdout",
     "output_type": "stream",
     "text": [
      "Processing test_directory/bcc...\n"
     ]
    },
    {
     "name": "stderr",
     "output_type": "stream",
     "text": [
      "100%|██████████| 35/35 [00:01<00:00, 21.54it/s]\n"
     ]
    },
    {
     "name": "stdout",
     "output_type": "stream",
     "text": [
      "Processing test_directory/akiec...\n"
     ]
    },
    {
     "name": "stderr",
     "output_type": "stream",
     "text": [
      "100%|██████████| 30/30 [00:01<00:00, 18.42it/s]\n"
     ]
    },
    {
     "name": "stdout",
     "output_type": "stream",
     "text": [
      "Processing test_directory/vasc...\n"
     ]
    },
    {
     "name": "stderr",
     "output_type": "stream",
     "text": [
      "100%|██████████| 13/13 [00:00<00:00, 23.23it/s]\n"
     ]
    },
    {
     "name": "stdout",
     "output_type": "stream",
     "text": [
      "Processing test_directory/df...\n"
     ]
    },
    {
     "name": "stderr",
     "output_type": "stream",
     "text": [
      "100%|██████████| 8/8 [00:00<00:00, 14.28it/s]\n"
     ]
    },
    {
     "name": "stdout",
     "output_type": "stream",
     "text": [
      "Processing validation_directory/nv...\n"
     ]
    },
    {
     "name": "stderr",
     "output_type": "stream",
     "text": [
      "100%|██████████| 707/707 [00:34<00:00, 20.66it/s]\n"
     ]
    },
    {
     "name": "stdout",
     "output_type": "stream",
     "text": [
      "Processing validation_directory/mel...\n"
     ]
    },
    {
     "name": "stderr",
     "output_type": "stream",
     "text": [
      "100%|██████████| 37/37 [00:02<00:00, 18.31it/s]\n"
     ]
    },
    {
     "name": "stdout",
     "output_type": "stream",
     "text": [
      "Processing validation_directory/bkl...\n"
     ]
    },
    {
     "name": "stderr",
     "output_type": "stream",
     "text": [
      "100%|██████████| 71/71 [00:04<00:00, 16.47it/s]\n"
     ]
    },
    {
     "name": "stdout",
     "output_type": "stream",
     "text": [
      "Processing validation_directory/bcc...\n"
     ]
    },
    {
     "name": "stderr",
     "output_type": "stream",
     "text": [
      "100%|██████████| 28/28 [00:01<00:00, 21.73it/s]\n"
     ]
    },
    {
     "name": "stdout",
     "output_type": "stream",
     "text": [
      "Processing validation_directory/akiec...\n"
     ]
    },
    {
     "name": "stderr",
     "output_type": "stream",
     "text": [
      "100%|██████████| 24/24 [00:01<00:00, 17.73it/s]\n"
     ]
    },
    {
     "name": "stdout",
     "output_type": "stream",
     "text": [
      "Processing validation_directory/vasc...\n"
     ]
    },
    {
     "name": "stderr",
     "output_type": "stream",
     "text": [
      "100%|██████████| 10/10 [00:00<00:00, 19.30it/s]\n"
     ]
    },
    {
     "name": "stdout",
     "output_type": "stream",
     "text": [
      "Processing validation_directory/df...\n"
     ]
    },
    {
     "name": "stderr",
     "output_type": "stream",
     "text": [
      "100%|██████████| 6/6 [00:00<00:00, 16.74it/s]\n"
     ]
    }
   ],
   "source": [
    "source_path = '/kaggle/input/multiclassskincancer'\n",
    "destination_path = '/kaggle/working/original_images'\n",
    "process_and_organize_dataset(source_path, destination_path)"
   ]
  },
  {
   "cell_type": "code",
   "execution_count": 10,
   "metadata": {
    "execution": {
     "iopub.execute_input": "2025-01-05T13:17:15.624616Z",
     "iopub.status.busy": "2025-01-05T13:17:15.624282Z",
     "iopub.status.idle": "2025-01-05T13:17:15.654604Z",
     "shell.execute_reply": "2025-01-05T13:17:15.653992Z",
     "shell.execute_reply.started": "2025-01-05T13:17:15.624590Z"
    },
    "trusted": true
   },
   "outputs": [
    {
     "name": "stdout",
     "output_type": "stream",
     "text": [
      "train_directory\n",
      "nv    :  5115\n",
      "mel    :  5950\n",
      "bkl    :  5990\n",
      "bcc    :  5462\n",
      "akiec    :  5510\n",
      "vasc    :  4810\n",
      "df    :  4090\n",
      "validation_directory\n",
      "nv    :  707\n",
      "mel    :  37\n",
      "bkl    :  71\n",
      "bcc    :  28\n",
      "akiec    :  24\n",
      "vasc    :  10\n",
      "df    :  6\n",
      "test_directory\n",
      "nv    :  883\n",
      "mel    :  46\n",
      "bkl    :  88\n",
      "bcc    :  35\n",
      "akiec    :  30\n",
      "vasc    :  13\n",
      "df    :  8\n"
     ]
    }
   ],
   "source": [
    "base_dir = '/kaggle/working/original_images'\n",
    "directory = ['train_directory', 'validation_directory', 'test_directory']\n",
    "classes = ['nv', 'mel', 'bkl', 'bcc', 'akiec', 'vasc', 'df']\n",
    "\n",
    "for dirc in directory:\n",
    "    print(dirc)\n",
    "    for cls in classes:\n",
    "        path = os.path.join(base_dir, dirc, cls)\n",
    "        print(f\"{cls}    : \", len(os.listdir(path)))"
   ]
  }
 ],
 "metadata": {
  "kaggle": {
   "accelerator": "gpu",
   "dataSources": [
    {
     "datasetId": 6428166,
     "sourceId": 10377356,
     "sourceType": "datasetVersion"
    }
   ],
   "dockerImageVersionId": 30823,
   "isGpuEnabled": true,
   "isInternetEnabled": true,
   "language": "python",
   "sourceType": "notebook"
  },
  "kernelspec": {
   "display_name": "Python 3",
   "language": "python",
   "name": "python3"
  },
  "language_info": {
   "codemirror_mode": {
    "name": "ipython",
    "version": 3
   },
   "file_extension": ".py",
   "mimetype": "text/x-python",
   "name": "python",
   "nbconvert_exporter": "python",
   "pygments_lexer": "ipython3",
   "version": "3.10.12"
  }
 },
 "nbformat": 4,
 "nbformat_minor": 4
}
